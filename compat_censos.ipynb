{
 "cells": [
  {
   "cell_type": "markdown",
   "metadata": {},
   "source": [
    "# Cmpatbilização das malhas censitárias de 2010 e 2022 para a Região Metropolitana de São Paulo"
   ]
  },
  {
   "cell_type": "code",
   "execution_count": 1,
   "metadata": {},
   "outputs": [],
   "source": [
    "from utils import *"
   ]
  },
  {
   "cell_type": "code",
   "execution_count": 2,
   "metadata": {},
   "outputs": [],
   "source": [
    "BASENAME = '2010-2022-RMSP' # Nome da compatibilização\n",
    "NAME_C1 = '2010' # Nome da primeira malha censitária\n",
    "NAME_C2 = '2022' # Nome da segunda malha censitária"
   ]
  },
  {
   "cell_type": "markdown",
   "metadata": {},
   "source": [
    "## 0. Importação e configuração das malhas"
   ]
  },
  {
   "cell_type": "code",
   "execution_count": 3,
   "metadata": {},
   "outputs": [],
   "source": [
    "# Códigos de municípios da RMSP\n",
    "muns = ['3503901', '3505708', '3506607', '3509007', '3509205', '3510609', '3513009', '3513801', '3515004', \n",
    "        '3515103', '3515707', '3516309', '3516408', '3518305', '3518800', '3522208', '3522505', '3523107', \n",
    "        '3525003', '3526209', '3528502', '3529401', '3530607', '3534401', '3539103', '3539806', '3543303', \n",
    "        '3544103', '3545001', '3546801', '3547304', '3547809', '3548708', '3548807', '3549953', '3550308', \n",
    "        '3552502', '3552809', '3556453']"
   ]
  },
  {
   "cell_type": "code",
   "execution_count": null,
   "metadata": {},
   "outputs": [],
   "source": [
    "# Criação das malhas\n",
    "malha_2010 = makeCensusGrid('ibge/Setores IBGE.gpkg',\n",
    "                            id_column='CD_GEOCODI', \n",
    "                            layer='SP_2010',\n",
    "                            mun_filter=muns)\n",
    "malha_2022 = makeCensusGrid('ibge/Setores IBGE.gpkg', \n",
    "                            id_column='CD_SETOR', \n",
    "                            layer='SP_2022P',\n",
    "                            mun_filter=muns)\n",
    "\n",
    "# Exportação\n",
    "malha_2010.to_parquet(f'malhas/{NAME_C1}.parquet')\n",
    "malha_2022.to_parquet(f'malhas/{NAME_C2}.parquet')"
   ]
  },
  {
   "cell_type": "markdown",
   "metadata": {},
   "source": [
    "## 1. Classificar alterações"
   ]
  },
  {
   "cell_type": "code",
   "execution_count": null,
   "metadata": {},
   "outputs": [],
   "source": [
    "alteracoes = classifyIdChanges(malha_2010, malha_2022)\n",
    "malha_2010['CLASS'] = malha_2010['CD_GEOCODI'].apply(lambda x: alteracoes[x])\n",
    "malha_2022['CLASS'] = malha_2022['CD_GEOCODI'].apply(lambda x: alteracoes[x])"
   ]
  },
  {
   "cell_type": "markdown",
   "metadata": {},
   "source": [
    "## 2. Criação do grafo de compatibilização"
   ]
  },
  {
   "cell_type": "code",
   "execution_count": null,
   "metadata": {},
   "outputs": [],
   "source": [
    "G_compat = makeCompatGraph(malha_2010, malha_2022)"
   ]
  },
  {
   "cell_type": "markdown",
   "metadata": {},
   "source": [
    "### 2.1. Redesenho por manutenção"
   ]
  },
  {
   "cell_type": "markdown",
   "metadata": {},
   "source": []
  }
 ],
 "metadata": {
  "kernelspec": {
   "display_name": "geoenv",
   "language": "python",
   "name": "python3"
  },
  "language_info": {
   "codemirror_mode": {
    "name": "ipython",
    "version": 3
   },
   "file_extension": ".py",
   "mimetype": "text/x-python",
   "name": "python",
   "nbconvert_exporter": "python",
   "pygments_lexer": "ipython3",
   "version": "3.9.16"
  }
 },
 "nbformat": 4,
 "nbformat_minor": 2
}
