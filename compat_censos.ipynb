{
 "cells": [
  {
   "cell_type": "markdown",
   "metadata": {},
   "source": [
    "# Compatbilização das malhas censitárias de 2010 e 2022 para a Região Metropolitana de São Paulo"
   ]
  },
  {
   "cell_type": "code",
   "execution_count": 1,
   "metadata": {},
   "outputs": [],
   "source": [
    "from utils import *"
   ]
  },
  {
   "cell_type": "code",
   "execution_count": 2,
   "metadata": {},
   "outputs": [],
   "source": [
    "BASENAME = '2010-2022-RMSP' # Nome da compatibilização\n",
    "NAME_C1 = '2010' # Nome da primeira malha censitária\n",
    "NAME_C2 = '2022' # Nome da segunda malha censitária"
   ]
  },
  {
   "cell_type": "markdown",
   "metadata": {},
   "source": [
    "## 0. Configuração das malhas"
   ]
  },
  {
   "cell_type": "raw",
   "metadata": {
    "vscode": {
     "languageId": "raw"
    }
   },
   "source": [
    "# Códigos de municípios da RMSP\n",
    "muns = ['3503901', '3505708', '3506607', '3509007', '3509205', '3510609', '3513009', '3513801', '3515004', \n",
    "        '3515103', '3515707', '3516309', '3516408', '3518305', '3518800', '3522208', '3522505', '3523107', \n",
    "        '3525003', '3526209', '3528502', '3529401', '3530607', '3534401', '3539103', '3539806', '3543303', \n",
    "        '3544103', '3545001', '3546801', '3547304', '3547809', '3548708', '3548807', '3549953', '3550308', \n",
    "        '3552502', '3552809', '3556453']\n",
    "\n",
    "# Criação das malhas\n",
    "malha_2010 = makeCensusGrid('ibge/Setores IBGE.gpkg',\n",
    "                            id_column='CD_GEOCODI', \n",
    "                            layer='SP_2010',\n",
    "                            mun_filter=muns)\n",
    "malha_2022 = makeCensusGrid('ibge/Setores IBGE.gpkg', \n",
    "                            id_column='CD_SETOR', \n",
    "                            layer='SP_2022P',\n",
    "                            mun_filter=muns)\n",
    "\n",
    "# Exportação\n",
    "malha_2010.to_parquet(f'malhas/{NAME_C1}.parquet')\n",
    "malha_2022.to_parquet(f'malhas/{NAME_C2}.parquet')"
   ]
  },
  {
   "cell_type": "code",
   "execution_count": 3,
   "metadata": {},
   "outputs": [],
   "source": [
    "# Importação\n",
    "malha_2010 = gpd.read_parquet(f'malhas/{NAME_C1}.parquet')\n",
    "malha_2022 = gpd.read_parquet(f'malhas/{NAME_C2}.parquet')"
   ]
  },
  {
   "cell_type": "markdown",
   "metadata": {},
   "source": [
    "## 2. Criação do grafo de compatibilização"
   ]
  },
  {
   "cell_type": "code",
   "execution_count": 4,
   "metadata": {},
   "outputs": [
    {
     "name": "stderr",
     "output_type": "stream",
     "text": [
      "d:\\Desktop\\Documentos\\Projetos\\compat_censos\\utils.py:292: UserWarning: `keep_geom_type=True` in overlay resulted in 182668 dropped geometries of different geometry types than df1 has. Set `keep_geom_type=False` to retain all geometries\n",
      "  self.gridUnion = gpd.overlay(gA, gB, how='union')\\\n"
     ]
    }
   ],
   "source": [
    "G_compat = compatibility_graph(malha_2010, malha_2022)"
   ]
  },
  {
   "cell_type": "code",
   "execution_count": 5,
   "metadata": {},
   "outputs": [
    {
     "name": "stderr",
     "output_type": "stream",
     "text": [
      "c:\\Users\\Pedro\\anaconda3\\envs\\geoenv\\lib\\site-packages\\geopandas\\geodataframe.py:1443: SettingWithCopyWarning: \n",
      "A value is trying to be set on a copy of a slice from a DataFrame.\n",
      "Try using .loc[row_indexer,col_indexer] = value instead\n",
      "\n",
      "See the caveats in the documentation: https://pandas.pydata.org/pandas-docs/stable/user_guide/indexing.html#returning-a-view-versus-a-copy\n",
      "  super().__setitem__(key, value)\n",
      "d:\\Desktop\\Documentos\\Projetos\\compat_censos\\utils.py:368: UserWarning: `keep_geom_type=True` in overlay resulted in 282 dropped geometries of different geometry types than df1 has. Set `keep_geom_type=False` to retain all geometries\n",
      "  intersecao = gpd.overlay(isolados_A, buffered_B, how='union')\\\n",
      "c:\\Users\\Pedro\\anaconda3\\envs\\geoenv\\lib\\site-packages\\geopandas\\geodataframe.py:1443: SettingWithCopyWarning: \n",
      "A value is trying to be set on a copy of a slice from a DataFrame.\n",
      "Try using .loc[row_indexer,col_indexer] = value instead\n",
      "\n",
      "See the caveats in the documentation: https://pandas.pydata.org/pandas-docs/stable/user_guide/indexing.html#returning-a-view-versus-a-copy\n",
      "  super().__setitem__(key, value)\n",
      "d:\\Desktop\\Documentos\\Projetos\\compat_censos\\utils.py:389: UserWarning: `keep_geom_type=True` in overlay resulted in 454 dropped geometries of different geometry types than df1 has. Set `keep_geom_type=False` to retain all geometries\n",
      "  intersecao = gpd.overlay(isolados_B, buffered_A, how='union')\\\n",
      "c:\\Users\\Pedro\\anaconda3\\envs\\geoenv\\lib\\site-packages\\geopandas\\geodataframe.py:1443: SettingWithCopyWarning: \n",
      "A value is trying to be set on a copy of a slice from a DataFrame.\n",
      "Try using .loc[row_indexer,col_indexer] = value instead\n",
      "\n",
      "See the caveats in the documentation: https://pandas.pydata.org/pandas-docs/stable/user_guide/indexing.html#returning-a-view-versus-a-copy\n",
      "  super().__setitem__(key, value)\n",
      "c:\\Users\\Pedro\\anaconda3\\envs\\geoenv\\lib\\site-packages\\geopandas\\geodataframe.py:1443: SettingWithCopyWarning: \n",
      "A value is trying to be set on a copy of a slice from a DataFrame.\n",
      "Try using .loc[row_indexer,col_indexer] = value instead\n",
      "\n",
      "See the caveats in the documentation: https://pandas.pydata.org/pandas-docs/stable/user_guide/indexing.html#returning-a-view-versus-a-copy\n",
      "  super().__setitem__(key, value)\n",
      "d:\\Desktop\\Documentos\\Projetos\\compat_censos\\utils.py:368: UserWarning: `keep_geom_type=True` in overlay resulted in 1 dropped geometries of different geometry types than df1 has. Set `keep_geom_type=False` to retain all geometries\n",
      "  intersecao = gpd.overlay(isolados_A, buffered_B, how='union')\\\n",
      "d:\\Desktop\\Documentos\\Projetos\\compat_censos\\utils.py:389: UserWarning: `keep_geom_type=True` in overlay resulted in 7 dropped geometries of different geometry types than df1 has. Set `keep_geom_type=False` to retain all geometries\n",
      "  intersecao = gpd.overlay(isolados_B, buffered_A, how='union')\\\n"
     ]
    }
   ],
   "source": [
    "G_compat.compatManutencao()\n",
    "G_compat.compatDivisao(threshold=0.8)\n",
    "\n",
    "# Aplica séries de buffers\n",
    "for b in [-20, -10]:\n",
    "    G_compat.compatSobreposicao(buffer=b)\n",
    "\n",
    "# Sobreposição de isolados restantes\n",
    "G_compat.compatSobreposicao(buffer=0, use_all=True)\n",
    "\n",
    "G_compat.exportCompatFiles(BASENAME, NAME_C1, NAME_C2)"
   ]
  },
  {
   "cell_type": "code",
   "execution_count": 6,
   "metadata": {},
   "outputs": [],
   "source": [
    "for n in G_compat.nodes(data=True):\n",
    "    if 'group' not in n[1]:\n",
    "        print(n)\n",
    "    break"
   ]
  },
  {
   "cell_type": "code",
   "execution_count": null,
   "metadata": {},
   "outputs": [],
   "source": []
  }
 ],
 "metadata": {
  "kernelspec": {
   "display_name": "geoenv",
   "language": "python",
   "name": "python3"
  },
  "language_info": {
   "codemirror_mode": {
    "name": "ipython",
    "version": 3
   },
   "file_extension": ".py",
   "mimetype": "text/x-python",
   "name": "python",
   "nbconvert_exporter": "python",
   "pygments_lexer": "ipython3",
   "version": "3.9.16"
  }
 },
 "nbformat": 4,
 "nbformat_minor": 2
}
